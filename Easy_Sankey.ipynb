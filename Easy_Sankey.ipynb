{
  "nbformat": 4,
  "nbformat_minor": 0,
  "metadata": {
    "colab": {
      "provenance": [],
      "authorship_tag": "ABX9TyMhRJ8dspA85Zj5oBMYCl3G",
      "include_colab_link": true
    },
    "kernelspec": {
      "name": "python3",
      "display_name": "Python 3"
    },
    "language_info": {
      "name": "python"
    }
  },
  "cells": [
    {
      "cell_type": "markdown",
      "metadata": {
        "id": "view-in-github",
        "colab_type": "text"
      },
      "source": [
        "<a href=\"https://colab.research.google.com/github/mylonasc/easy-sankey/blob/master/Easy_Sankey.ipynb\" target=\"_parent\"><img src=\"https://colab.research.google.com/assets/colab-badge.svg\" alt=\"Open In Colab\"/></a>"
      ]
    },
    {
      "cell_type": "markdown",
      "source": [
        "## An easier way to create Sankey flow diagrams with `Plotly`\n",
        "\n",
        "This is a notebook that shows the use of some simple datastructures to create Sankey diagrams using `plotly`. \n",
        "\n",
        "### TODO:\n",
        "Currently the diagrams are only constructed \"forward\" (from start node to end node) without allowing for recurring loops. Fix that.\n"
      ],
      "metadata": {
        "id": "ujXNpqk75P_w"
      }
    },
    {
      "cell_type": "code",
      "source": [
        "!pip install plotly"
      ],
      "metadata": {
        "id": "Y9ABK5u55UhN"
      },
      "execution_count": null,
      "outputs": []
    },
    {
      "cell_type": "code",
      "source": [
        "import plotly.graph_objects as go\n",
        "import urllib, json\n",
        "import plotly.express as px"
      ],
      "metadata": {
        "id": "4gbqXai4hpQo"
      },
      "execution_count": null,
      "outputs": []
    },
    {
      "cell_type": "code",
      "source": [
        "opacity = 0.8\n",
        "apply_opacity = lambda x : x.replace('(','a(').replace(')',',%2.2f)'%opacity)\n",
        "pastel_colors = [apply_opacity(c) for c in px.colors.qualitative.Pastel]"
      ],
      "metadata": {
        "id": "NUGpgtySu_Mc"
      },
      "execution_count": null,
      "outputs": []
    },
    {
      "cell_type": "code",
      "source": [
        "class Node:\n",
        "    def __init__(self, name, value, index,  color = 'rgba(30,42,10,0.5)'):\n",
        "        self.name = name\n",
        "        self.value = value\n",
        "        self.index = index\n",
        "        self.color = color\n",
        "        self.in_nodes = []\n",
        "        self.out_nodes = []\n",
        "        self.out_edge_weights = []\n",
        "\n",
        "    def set_out_nodes(self, out_nodes, pct_dist = None):\n",
        "        if pct_dist is None:\n",
        "            pct_dist = [1./len(out_nodes)]* len(out_nodes)\n",
        "\n",
        "        self.out_edge_weights = [self.value * p for p in pct_dist]\n",
        "\n",
        "        for o, p in zip(out_nodes, pct_dist):\n",
        "            o.value += self.value * p\n",
        "            self.out_nodes.append(o)\n",
        "    \n",
        "    def dfs(self, max_depth = 100):\n",
        "        \"\"\"\n",
        "        Performs DFS for the graph where this node belongs to.\n",
        "        \n",
        "        Returns a list of all nodes, and a list of tuples containing \n",
        "        [link_weight,link_source,link_target]\n",
        "        \"\"\"\n",
        "        links = []\n",
        "        next_nodes = [self]\n",
        "        node_set = set([self])\n",
        "        depth = 0\n",
        "        while len(next_nodes)>0 or depth >= max_depth:\n",
        "            tmp = []\n",
        "            for n in next_nodes:\n",
        "                links.extend([(l, (n.index, o.index)) for o, l in zip(n.out_nodes, n.out_edge_weights)])\n",
        "                tmp.extend(n.out_nodes)\n",
        "            node_set.update(tmp)\n",
        "            next_nodes = tmp\n",
        "        node_list = sorted(list(node_set), key = lambda n : n.index)\n",
        "        return node_list, links\n",
        "\n",
        "n1 = Node('Total CO2',100.,0, color = pastel_colors[0])\n",
        "#-------------------------\n",
        "n2 = Node('Compute',0.,1, color = pastel_colors[1])\n",
        "n3 = Node('Data',0.,2,pastel_colors[1])\n",
        "n1.set_out_nodes([n2,n3], [0.8,0.3])\n",
        "#-------------------------\n",
        "n4 = Node('Training',0, 3,pastel_colors[2])\n",
        "n5 = Node('Inference',0, 4,pastel_colors[2])\n",
        "n6 = Node('Experimentation',0, 5,pastel_colors[2])\n",
        "compute_nodes = [n4,n5,n6]\n",
        "n2.set_out_nodes(compute_nodes,[0.15,0.8,0.05])\n",
        "#-------------------------\n",
        "n7 = Node('Storage',0, 6,pastel_colors[3])\n",
        "n8 = Node('Transmission',0, 7, pastel_colors[3])\n",
        "n9 = Node('Collection',0, 8, pastel_colors[3])\n",
        "data_nodes = [n7,n8,n9]\n",
        "n3.set_out_nodes(data_nodes)\n",
        "#-------------------------\n",
        "n9 = Node('Waste',0,9, pastel_colors[4])\n",
        "n10 = Node('Recycling',0,10, pastel_colors[4])\n",
        "final_nodes = [n9,n10]\n",
        "for c in compute_nodes:\n",
        "    c.set_out_nodes(final_nodes)\n",
        "for d in data_nodes:\n",
        "    d.set_out_nodes(final_nodes)"
      ],
      "metadata": {
        "id": "lqvX5Wh8hzxb"
      },
      "execution_count": null,
      "outputs": []
    },
    {
      "cell_type": "code",
      "source": [
        "all_nodes, all_links = n1.dfs()"
      ],
      "metadata": {
        "id": "8c4aZcncvhT4"
      },
      "execution_count": null,
      "outputs": []
    },
    {
      "cell_type": "code",
      "source": [
        "# color_links = ['rgba(20,120,20,0.8)']*len(all_links)\n",
        "color_nodes = [n.color for n in all_nodes]"
      ],
      "metadata": {
        "id": "sEAwJxFivWdT"
      },
      "execution_count": null,
      "outputs": []
    },
    {
      "cell_type": "code",
      "source": [
        "data = {}\n",
        "data['node'] = {}\n",
        "data['node']['label'] = [n.name for n in all_nodes]\n",
        "data['node']['color'] = [n.color for n in all_nodes]\n",
        "data['link'] = {}\n",
        "data['link']['source'] = [l[1][0] for l in all_links]\n",
        "data['link']['target'] = [l[1][1] for l in all_links]\n",
        "data['link']['color'] = [all_nodes[l[1][0]].color for l in all_links] # get the source color\n",
        "data['link']['value'] = [l[0] for l in all_links] # get the source color\n",
        "data['link']['label'] = ['']*len(all_links)"
      ],
      "metadata": {
        "id": "lMhzzvewv1rT"
      },
      "execution_count": null,
      "outputs": []
    },
    {
      "cell_type": "code",
      "source": [
        "# override gray link colors with 'source' colors\n",
        "opacity = 0.4\n",
        "# change 'magenta' to its 'rgba' value to add opacity\n",
        "# data['data'][0]['node']['color'] = ['rgba(255,0,255, 0.8)' if color == \"magenta\" else color for color in data['data'][0]['node']['color']]\n",
        "# data['data'][0]['link']['color'] = [data['data'][0]['node']['color'][src].replace(\"0.8\", str(opacity))\n",
        "#                                     for src in data['data'][0]['link']['source']]\n",
        "\n",
        "fig = go.Figure(data=[go.Sankey(\n",
        "    arrangement = 'snap',\n",
        "    valueformat = \".0f\",\n",
        "    valuesuffix = \"TWh\",\n",
        "    # Define nodes\n",
        "    node = dict(\n",
        "      pad = 15,\n",
        "      thickness = 15,\n",
        "      line = dict(color = \"black\", width = 0.5),\n",
        "      label =  data['node']['label'],\n",
        "      color =  data['node']['color']\n",
        "    ),\n",
        "    # Add links\n",
        "    link = dict(\n",
        "      source =  data['link']['source'],\n",
        "      target =  data['link']['target'],\n",
        "      value =  data['link']['value'],\n",
        "      label =  data['link']['label'],\n",
        "      color =  data['link']['color']\n",
        "))])\n",
        "\n",
        "fig.update_layout(title_text=\"Circular economy of AI models (<a href=https://mylonasc.netlify.app/>C. Mylonas</a>)\",\n",
        "                  font_size=10)\n",
        "fig.show()"
      ],
      "metadata": {
        "colab": {
          "base_uri": "https://localhost:8080/",
          "height": 542
        },
        "id": "2P6Y4yzRhwXE",
        "outputId": "fc40b7a5-3193-43b8-f9f8-c2990aec8bc3"
      },
      "execution_count": null,
      "outputs": [
        {
          "output_type": "display_data",
          "data": {
            "text/html": [
              "<html>\n",
              "<head><meta charset=\"utf-8\" /></head>\n",
              "<body>\n",
              "    <div>            <script src=\"https://cdnjs.cloudflare.com/ajax/libs/mathjax/2.7.5/MathJax.js?config=TeX-AMS-MML_SVG\"></script><script type=\"text/javascript\">if (window.MathJax) {MathJax.Hub.Config({SVG: {font: \"STIX-Web\"}});}</script>                <script type=\"text/javascript\">window.PlotlyConfig = {MathJaxConfig: 'local'};</script>\n",
              "        <script src=\"https://cdn.plot.ly/plotly-2.8.3.min.js\"></script>                <div id=\"3424ae05-054c-4133-8887-6c3d73504ec2\" class=\"plotly-graph-div\" style=\"height:525px; width:100%;\"></div>            <script type=\"text/javascript\">                                    window.PLOTLYENV=window.PLOTLYENV || {};                                    if (document.getElementById(\"3424ae05-054c-4133-8887-6c3d73504ec2\")) {                    Plotly.newPlot(                        \"3424ae05-054c-4133-8887-6c3d73504ec2\",                        [{\"arrangement\":\"snap\",\"link\":{\"color\":[\"rgba(102, 197, 204,0.80)\",\"rgba(102, 197, 204,0.80)\",\"rgba(246, 207, 113,0.80)\",\"rgba(246, 207, 113,0.80)\",\"rgba(246, 207, 113,0.80)\",\"rgba(246, 207, 113,0.80)\",\"rgba(246, 207, 113,0.80)\",\"rgba(246, 207, 113,0.80)\",\"rgba(248, 156, 116,0.80)\",\"rgba(248, 156, 116,0.80)\",\"rgba(248, 156, 116,0.80)\",\"rgba(248, 156, 116,0.80)\",\"rgba(248, 156, 116,0.80)\",\"rgba(248, 156, 116,0.80)\",\"rgba(220, 176, 242,0.80)\",\"rgba(220, 176, 242,0.80)\",\"rgba(220, 176, 242,0.80)\",\"rgba(220, 176, 242,0.80)\",\"rgba(220, 176, 242,0.80)\",\"rgba(220, 176, 242,0.80)\"],\"label\":[\"\",\"\",\"\",\"\",\"\",\"\",\"\",\"\",\"\",\"\",\"\",\"\",\"\",\"\",\"\",\"\",\"\",\"\",\"\",\"\"],\"source\":[0,0,1,1,1,2,2,2,3,3,4,4,5,5,6,6,7,7,8,8],\"target\":[1,2,3,4,5,6,7,8,9,10,9,10,9,10,9,10,9,10,9,10],\"value\":[80.0,30.0,12.0,64.0,4.0,10.0,10.0,10.0,6.0,6.0,32.0,32.0,2.0,2.0,5.0,5.0,5.0,5.0,5.0,5.0]},\"node\":{\"color\":[\"rgba(102, 197, 204,0.80)\",\"rgba(246, 207, 113,0.80)\",\"rgba(246, 207, 113,0.80)\",\"rgba(248, 156, 116,0.80)\",\"rgba(248, 156, 116,0.80)\",\"rgba(248, 156, 116,0.80)\",\"rgba(220, 176, 242,0.80)\",\"rgba(220, 176, 242,0.80)\",\"rgba(220, 176, 242,0.80)\",\"rgba(135, 197, 95,0.80)\",\"rgba(135, 197, 95,0.80)\"],\"label\":[\"Total CO2\",\"Compute\",\"Data\",\"Training\",\"Inference\",\"Experimentation\",\"Storage\",\"Transmission\",\"Collection\",\"Waste\",\"Recycling\"],\"line\":{\"color\":\"black\",\"width\":0.5},\"pad\":15,\"thickness\":15},\"valueformat\":\".0f\",\"valuesuffix\":\"TWh\",\"type\":\"sankey\"}],                        {\"template\":{\"data\":{\"bar\":[{\"error_x\":{\"color\":\"#2a3f5f\"},\"error_y\":{\"color\":\"#2a3f5f\"},\"marker\":{\"line\":{\"color\":\"#E5ECF6\",\"width\":0.5},\"pattern\":{\"fillmode\":\"overlay\",\"size\":10,\"solidity\":0.2}},\"type\":\"bar\"}],\"barpolar\":[{\"marker\":{\"line\":{\"color\":\"#E5ECF6\",\"width\":0.5},\"pattern\":{\"fillmode\":\"overlay\",\"size\":10,\"solidity\":0.2}},\"type\":\"barpolar\"}],\"carpet\":[{\"aaxis\":{\"endlinecolor\":\"#2a3f5f\",\"gridcolor\":\"white\",\"linecolor\":\"white\",\"minorgridcolor\":\"white\",\"startlinecolor\":\"#2a3f5f\"},\"baxis\":{\"endlinecolor\":\"#2a3f5f\",\"gridcolor\":\"white\",\"linecolor\":\"white\",\"minorgridcolor\":\"white\",\"startlinecolor\":\"#2a3f5f\"},\"type\":\"carpet\"}],\"choropleth\":[{\"colorbar\":{\"outlinewidth\":0,\"ticks\":\"\"},\"type\":\"choropleth\"}],\"contour\":[{\"colorbar\":{\"outlinewidth\":0,\"ticks\":\"\"},\"colorscale\":[[0.0,\"#0d0887\"],[0.1111111111111111,\"#46039f\"],[0.2222222222222222,\"#7201a8\"],[0.3333333333333333,\"#9c179e\"],[0.4444444444444444,\"#bd3786\"],[0.5555555555555556,\"#d8576b\"],[0.6666666666666666,\"#ed7953\"],[0.7777777777777778,\"#fb9f3a\"],[0.8888888888888888,\"#fdca26\"],[1.0,\"#f0f921\"]],\"type\":\"contour\"}],\"contourcarpet\":[{\"colorbar\":{\"outlinewidth\":0,\"ticks\":\"\"},\"type\":\"contourcarpet\"}],\"heatmap\":[{\"colorbar\":{\"outlinewidth\":0,\"ticks\":\"\"},\"colorscale\":[[0.0,\"#0d0887\"],[0.1111111111111111,\"#46039f\"],[0.2222222222222222,\"#7201a8\"],[0.3333333333333333,\"#9c179e\"],[0.4444444444444444,\"#bd3786\"],[0.5555555555555556,\"#d8576b\"],[0.6666666666666666,\"#ed7953\"],[0.7777777777777778,\"#fb9f3a\"],[0.8888888888888888,\"#fdca26\"],[1.0,\"#f0f921\"]],\"type\":\"heatmap\"}],\"heatmapgl\":[{\"colorbar\":{\"outlinewidth\":0,\"ticks\":\"\"},\"colorscale\":[[0.0,\"#0d0887\"],[0.1111111111111111,\"#46039f\"],[0.2222222222222222,\"#7201a8\"],[0.3333333333333333,\"#9c179e\"],[0.4444444444444444,\"#bd3786\"],[0.5555555555555556,\"#d8576b\"],[0.6666666666666666,\"#ed7953\"],[0.7777777777777778,\"#fb9f3a\"],[0.8888888888888888,\"#fdca26\"],[1.0,\"#f0f921\"]],\"type\":\"heatmapgl\"}],\"histogram\":[{\"marker\":{\"pattern\":{\"fillmode\":\"overlay\",\"size\":10,\"solidity\":0.2}},\"type\":\"histogram\"}],\"histogram2d\":[{\"colorbar\":{\"outlinewidth\":0,\"ticks\":\"\"},\"colorscale\":[[0.0,\"#0d0887\"],[0.1111111111111111,\"#46039f\"],[0.2222222222222222,\"#7201a8\"],[0.3333333333333333,\"#9c179e\"],[0.4444444444444444,\"#bd3786\"],[0.5555555555555556,\"#d8576b\"],[0.6666666666666666,\"#ed7953\"],[0.7777777777777778,\"#fb9f3a\"],[0.8888888888888888,\"#fdca26\"],[1.0,\"#f0f921\"]],\"type\":\"histogram2d\"}],\"histogram2dcontour\":[{\"colorbar\":{\"outlinewidth\":0,\"ticks\":\"\"},\"colorscale\":[[0.0,\"#0d0887\"],[0.1111111111111111,\"#46039f\"],[0.2222222222222222,\"#7201a8\"],[0.3333333333333333,\"#9c179e\"],[0.4444444444444444,\"#bd3786\"],[0.5555555555555556,\"#d8576b\"],[0.6666666666666666,\"#ed7953\"],[0.7777777777777778,\"#fb9f3a\"],[0.8888888888888888,\"#fdca26\"],[1.0,\"#f0f921\"]],\"type\":\"histogram2dcontour\"}],\"mesh3d\":[{\"colorbar\":{\"outlinewidth\":0,\"ticks\":\"\"},\"type\":\"mesh3d\"}],\"parcoords\":[{\"line\":{\"colorbar\":{\"outlinewidth\":0,\"ticks\":\"\"}},\"type\":\"parcoords\"}],\"pie\":[{\"automargin\":true,\"type\":\"pie\"}],\"scatter\":[{\"marker\":{\"colorbar\":{\"outlinewidth\":0,\"ticks\":\"\"}},\"type\":\"scatter\"}],\"scatter3d\":[{\"line\":{\"colorbar\":{\"outlinewidth\":0,\"ticks\":\"\"}},\"marker\":{\"colorbar\":{\"outlinewidth\":0,\"ticks\":\"\"}},\"type\":\"scatter3d\"}],\"scattercarpet\":[{\"marker\":{\"colorbar\":{\"outlinewidth\":0,\"ticks\":\"\"}},\"type\":\"scattercarpet\"}],\"scattergeo\":[{\"marker\":{\"colorbar\":{\"outlinewidth\":0,\"ticks\":\"\"}},\"type\":\"scattergeo\"}],\"scattergl\":[{\"marker\":{\"colorbar\":{\"outlinewidth\":0,\"ticks\":\"\"}},\"type\":\"scattergl\"}],\"scattermapbox\":[{\"marker\":{\"colorbar\":{\"outlinewidth\":0,\"ticks\":\"\"}},\"type\":\"scattermapbox\"}],\"scatterpolar\":[{\"marker\":{\"colorbar\":{\"outlinewidth\":0,\"ticks\":\"\"}},\"type\":\"scatterpolar\"}],\"scatterpolargl\":[{\"marker\":{\"colorbar\":{\"outlinewidth\":0,\"ticks\":\"\"}},\"type\":\"scatterpolargl\"}],\"scatterternary\":[{\"marker\":{\"colorbar\":{\"outlinewidth\":0,\"ticks\":\"\"}},\"type\":\"scatterternary\"}],\"surface\":[{\"colorbar\":{\"outlinewidth\":0,\"ticks\":\"\"},\"colorscale\":[[0.0,\"#0d0887\"],[0.1111111111111111,\"#46039f\"],[0.2222222222222222,\"#7201a8\"],[0.3333333333333333,\"#9c179e\"],[0.4444444444444444,\"#bd3786\"],[0.5555555555555556,\"#d8576b\"],[0.6666666666666666,\"#ed7953\"],[0.7777777777777778,\"#fb9f3a\"],[0.8888888888888888,\"#fdca26\"],[1.0,\"#f0f921\"]],\"type\":\"surface\"}],\"table\":[{\"cells\":{\"fill\":{\"color\":\"#EBF0F8\"},\"line\":{\"color\":\"white\"}},\"header\":{\"fill\":{\"color\":\"#C8D4E3\"},\"line\":{\"color\":\"white\"}},\"type\":\"table\"}]},\"layout\":{\"annotationdefaults\":{\"arrowcolor\":\"#2a3f5f\",\"arrowhead\":0,\"arrowwidth\":1},\"autotypenumbers\":\"strict\",\"coloraxis\":{\"colorbar\":{\"outlinewidth\":0,\"ticks\":\"\"}},\"colorscale\":{\"diverging\":[[0,\"#8e0152\"],[0.1,\"#c51b7d\"],[0.2,\"#de77ae\"],[0.3,\"#f1b6da\"],[0.4,\"#fde0ef\"],[0.5,\"#f7f7f7\"],[0.6,\"#e6f5d0\"],[0.7,\"#b8e186\"],[0.8,\"#7fbc41\"],[0.9,\"#4d9221\"],[1,\"#276419\"]],\"sequential\":[[0.0,\"#0d0887\"],[0.1111111111111111,\"#46039f\"],[0.2222222222222222,\"#7201a8\"],[0.3333333333333333,\"#9c179e\"],[0.4444444444444444,\"#bd3786\"],[0.5555555555555556,\"#d8576b\"],[0.6666666666666666,\"#ed7953\"],[0.7777777777777778,\"#fb9f3a\"],[0.8888888888888888,\"#fdca26\"],[1.0,\"#f0f921\"]],\"sequentialminus\":[[0.0,\"#0d0887\"],[0.1111111111111111,\"#46039f\"],[0.2222222222222222,\"#7201a8\"],[0.3333333333333333,\"#9c179e\"],[0.4444444444444444,\"#bd3786\"],[0.5555555555555556,\"#d8576b\"],[0.6666666666666666,\"#ed7953\"],[0.7777777777777778,\"#fb9f3a\"],[0.8888888888888888,\"#fdca26\"],[1.0,\"#f0f921\"]]},\"colorway\":[\"#636efa\",\"#EF553B\",\"#00cc96\",\"#ab63fa\",\"#FFA15A\",\"#19d3f3\",\"#FF6692\",\"#B6E880\",\"#FF97FF\",\"#FECB52\"],\"font\":{\"color\":\"#2a3f5f\"},\"geo\":{\"bgcolor\":\"white\",\"lakecolor\":\"white\",\"landcolor\":\"#E5ECF6\",\"showlakes\":true,\"showland\":true,\"subunitcolor\":\"white\"},\"hoverlabel\":{\"align\":\"left\"},\"hovermode\":\"closest\",\"mapbox\":{\"style\":\"light\"},\"paper_bgcolor\":\"white\",\"plot_bgcolor\":\"#E5ECF6\",\"polar\":{\"angularaxis\":{\"gridcolor\":\"white\",\"linecolor\":\"white\",\"ticks\":\"\"},\"bgcolor\":\"#E5ECF6\",\"radialaxis\":{\"gridcolor\":\"white\",\"linecolor\":\"white\",\"ticks\":\"\"}},\"scene\":{\"xaxis\":{\"backgroundcolor\":\"#E5ECF6\",\"gridcolor\":\"white\",\"gridwidth\":2,\"linecolor\":\"white\",\"showbackground\":true,\"ticks\":\"\",\"zerolinecolor\":\"white\"},\"yaxis\":{\"backgroundcolor\":\"#E5ECF6\",\"gridcolor\":\"white\",\"gridwidth\":2,\"linecolor\":\"white\",\"showbackground\":true,\"ticks\":\"\",\"zerolinecolor\":\"white\"},\"zaxis\":{\"backgroundcolor\":\"#E5ECF6\",\"gridcolor\":\"white\",\"gridwidth\":2,\"linecolor\":\"white\",\"showbackground\":true,\"ticks\":\"\",\"zerolinecolor\":\"white\"}},\"shapedefaults\":{\"line\":{\"color\":\"#2a3f5f\"}},\"ternary\":{\"aaxis\":{\"gridcolor\":\"white\",\"linecolor\":\"white\",\"ticks\":\"\"},\"baxis\":{\"gridcolor\":\"white\",\"linecolor\":\"white\",\"ticks\":\"\"},\"bgcolor\":\"#E5ECF6\",\"caxis\":{\"gridcolor\":\"white\",\"linecolor\":\"white\",\"ticks\":\"\"}},\"title\":{\"x\":0.05},\"xaxis\":{\"automargin\":true,\"gridcolor\":\"white\",\"linecolor\":\"white\",\"ticks\":\"\",\"title\":{\"standoff\":15},\"zerolinecolor\":\"white\",\"zerolinewidth\":2},\"yaxis\":{\"automargin\":true,\"gridcolor\":\"white\",\"linecolor\":\"white\",\"ticks\":\"\",\"title\":{\"standoff\":15},\"zerolinecolor\":\"white\",\"zerolinewidth\":2}}},\"title\":{\"text\":\"Circular economy of AI models (<a href=https://mylonasc.netlify.app/>C. Mylonas</a>)\"},\"font\":{\"size\":10}},                        {\"responsive\": true}                    ).then(function(){\n",
              "                            \n",
              "var gd = document.getElementById('3424ae05-054c-4133-8887-6c3d73504ec2');\n",
              "var x = new MutationObserver(function (mutations, observer) {{\n",
              "        var display = window.getComputedStyle(gd).display;\n",
              "        if (!display || display === 'none') {{\n",
              "            console.log([gd, 'removed!']);\n",
              "            Plotly.purge(gd);\n",
              "            observer.disconnect();\n",
              "        }}\n",
              "}});\n",
              "\n",
              "// Listen for the removal of the full notebook cells\n",
              "var notebookContainer = gd.closest('#notebook-container');\n",
              "if (notebookContainer) {{\n",
              "    x.observe(notebookContainer, {childList: true});\n",
              "}}\n",
              "\n",
              "// Listen for the clearing of the current output cell\n",
              "var outputEl = gd.closest('.output');\n",
              "if (outputEl) {{\n",
              "    x.observe(outputEl, {childList: true});\n",
              "}}\n",
              "\n",
              "                        })                };                            </script>        </div>\n",
              "</body>\n",
              "</html>"
            ]
          },
          "metadata": {}
        }
      ]
    },
    {
      "cell_type": "code",
      "source": [],
      "metadata": {
        "id": "qKqyvSXshwvl"
      },
      "execution_count": null,
      "outputs": []
    }
  ]
}